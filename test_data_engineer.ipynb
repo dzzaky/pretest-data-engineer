{
  "cells": [
    {
      "cell_type": "markdown",
      "metadata": {
        "id": "view-in-github",
        "colab_type": "text"
      },
      "source": [
        "<a href=\"https://colab.research.google.com/github/dzzaky/pretest-data-engineer/blob/main/test_data_engineer.ipynb\" target=\"_parent\"><img src=\"https://colab.research.google.com/assets/colab-badge.svg\" alt=\"Open In Colab\"/></a>"
      ]
    },
    {
      "cell_type": "code",
      "source": [
        "import pandas as pd\n",
        "\n",
        "df = pd.read_csv('/content/sample_data/review-lazada.csv')\n",
        "\n",
        "print(df.head())\n",
        "print(df.info())\n",
        "print(df.describe())"
      ],
      "metadata": {
        "id": "DttuSF4OlFKL",
        "outputId": "ab9b4cae-83a8-435b-ad22-a447bc00d578",
        "colab": {
          "base_uri": "https://localhost:8080/"
        }
      },
      "execution_count": 2,
      "outputs": [
        {
          "output_type": "stream",
          "name": "stderr",
          "text": [
            "<ipython-input-2-24b7e7792615>:3: DtypeWarning: Columns (1,2,5,6,10,12,13,14) have mixed types. Specify dtype option on import or set low_memory=False.\n",
            "  df = pd.read_csv('/content/sample_data/review-lazada.csv')\n"
          ]
        },
        {
          "output_type": "stream",
          "name": "stdout",
          "text": [
            "        itemId                 category             name  rating  \\\n",
            "0  100002528.0  beli-harddisk-eksternal         Kamal U.     5.0   \n",
            "1  100002528.0  beli-harddisk-eksternal       yofanca m.     4.0   \n",
            "2  100002528.0  beli-harddisk-eksternal  Lazada Customer     5.0   \n",
            "3  100002528.0  beli-harddisk-eksternal  Lazada Customer     4.0   \n",
            "4  100002528.0  beli-harddisk-eksternal         Yosep M.     5.0   \n",
            "\n",
            "   originalRating                                  reviewTitle  \\\n",
            "0             NaN                                          NaN   \n",
            "1             NaN                                          NaN   \n",
            "2             NaN  ok mantaaapppp barang sesuai pesanan.. good   \n",
            "3             NaN                                          NaN   \n",
            "4             NaN                                          NaN   \n",
            "\n",
            "                      reviewContent  likeCount  upVotes  downVotes helpful  \\\n",
            "0   bagus  mantap dah sesui pesanan        0.0      0.0        0.0    True   \n",
            "1                Bagus, sesuai foto        0.0      0.0        0.0    True   \n",
            "2  okkkkk mantaaaaaaapppp ... goood        0.0      0.0        0.0    True   \n",
            "3                      bagus sesuai        0.0      0.0        0.0    True   \n",
            "4                               NaN        0.0      0.0        0.0    True   \n",
            "\n",
            "   relevanceScore   boughtDate  clientType retrievedDate  \n",
            "0           26.51     9-Apr-19  androidApp     10/2/2019  \n",
            "1           22.49    24-Sep-17  androidApp     10/2/2019  \n",
            "2           21.50     4-Apr-18  androidApp     10/2/2019  \n",
            "3           20.51    22-Sep-17  androidApp     10/2/2019  \n",
            "4           16.01  17 Agu 2018  androidApp     10/2/2019  \n",
            "<class 'pandas.core.frame.DataFrame'>\n",
            "RangeIndex: 203787 entries, 0 to 203786\n",
            "Data columns (total 15 columns):\n",
            " #   Column          Non-Null Count  Dtype  \n",
            "---  ------          --------------  -----  \n",
            " 0   itemId          854 non-null    float64\n",
            " 1   category        854 non-null    object \n",
            " 2   name            854 non-null    object \n",
            " 3   rating          854 non-null    float64\n",
            " 4   originalRating  0 non-null      float64\n",
            " 5   reviewTitle     257 non-null    object \n",
            " 6   reviewContent   400 non-null    object \n",
            " 7   likeCount       854 non-null    float64\n",
            " 8   upVotes         854 non-null    float64\n",
            " 9   downVotes       854 non-null    float64\n",
            " 10  helpful         854 non-null    object \n",
            " 11  relevanceScore  854 non-null    float64\n",
            " 12  boughtDate      756 non-null    object \n",
            " 13  clientType      854 non-null    object \n",
            " 14  retrievedDate   854 non-null    object \n",
            "dtypes: float64(7), object(8)\n",
            "memory usage: 23.3+ MB\n",
            "None\n",
            "             itemId      rating  originalRating   likeCount     upVotes  \\\n",
            "count  8.540000e+02  854.000000             0.0  854.000000  854.000000   \n",
            "mean   9.926461e+07    4.426230             NaN    0.875878    0.875878   \n",
            "std    1.021146e+07    1.154456             NaN    6.847599    6.847599   \n",
            "min    1.004143e+07    1.000000             NaN    0.000000    0.000000   \n",
            "25%    1.000364e+08    4.000000             NaN    0.000000    0.000000   \n",
            "50%    1.001253e+08    5.000000             NaN    0.000000    0.000000   \n",
            "75%    1.006233e+08    5.000000             NaN    0.000000    0.000000   \n",
            "max    1.015355e+08    5.000000             NaN  158.000000  158.000000   \n",
            "\n",
            "        downVotes  relevanceScore  \n",
            "count  854.000000      854.000000  \n",
            "mean     0.022248       19.604192  \n",
            "std      0.201336        6.495058  \n",
            "min      0.000000        2.000000  \n",
            "25%      0.000000       15.522500  \n",
            "50%      0.000000       18.660000  \n",
            "75%      0.000000       22.490000  \n",
            "max      3.000000       67.500000  \n"
          ]
        }
      ]
    },
    {
      "cell_type": "code",
      "source": [
        "df = df.drop_duplicates()\n",
        "\n",
        "df.to_csv('/content/sample_data/cleaned-review-lazada.csv', index=False)\n"
      ],
      "metadata": {
        "id": "xXAnMhRQj_IT"
      },
      "execution_count": 3,
      "outputs": []
    },
    {
      "cell_type": "code",
      "source": [
        "import pandas as pd\n",
        "\n",
        "df = pd.read_csv('/content/sample_data/cleaned-review-lazada.csv')\n",
        "\n",
        "def sentiment(rating):\n",
        "    if rating >= 4:\n",
        "        return 'Positive'\n",
        "    elif rating == 3:\n",
        "        return 'Neutral'\n",
        "    else:\n",
        "        return 'Negative'\n",
        "\n",
        "df['Sentiment'] = df['rating'].apply(sentiment)\n",
        "\n",
        "df.to_csv('/content/sample_data/sentiment-review-lazada.csv', index=False)\n"
      ],
      "metadata": {
        "id": "46aHwssCkMXI"
      },
      "execution_count": 4,
      "outputs": []
    },
    {
      "cell_type": "code",
      "source": [
        "print(df.head())"
      ],
      "metadata": {
        "id": "xcxK7Aiykyus",
        "outputId": "7d2f2320-eebe-44ab-893b-58b4b7f8ac78",
        "colab": {
          "base_uri": "https://localhost:8080/"
        }
      },
      "execution_count": null,
      "outputs": [
        {
          "output_type": "stream",
          "name": "stdout",
          "text": [
            "        itemId                 category             name  rating  \\\n",
            "0  100002528.0  beli-harddisk-eksternal         Kamal U.     5.0   \n",
            "1  100002528.0  beli-harddisk-eksternal       yofanca m.     4.0   \n",
            "2  100002528.0  beli-harddisk-eksternal  Lazada Customer     5.0   \n",
            "3  100002528.0  beli-harddisk-eksternal  Lazada Customer     4.0   \n",
            "4  100002528.0  beli-harddisk-eksternal         Yosep M.     5.0   \n",
            "\n",
            "   originalRating                                  reviewTitle  \\\n",
            "0             NaN                                          NaN   \n",
            "1             NaN                                          NaN   \n",
            "2             NaN  ok mantaaapppp barang sesuai pesanan.. good   \n",
            "3             NaN                                          NaN   \n",
            "4             NaN                                          NaN   \n",
            "\n",
            "                      reviewContent  likeCount  upVotes  downVotes helpful  \\\n",
            "0   bagus  mantap dah sesui pesanan        0.0      0.0        0.0    True   \n",
            "1                Bagus, sesuai foto        0.0      0.0        0.0    True   \n",
            "2  okkkkk mantaaaaaaapppp ... goood        0.0      0.0        0.0    True   \n",
            "3                      bagus sesuai        0.0      0.0        0.0    True   \n",
            "4                               NaN        0.0      0.0        0.0    True   \n",
            "\n",
            "   relevanceScore   boughtDate  clientType retrievedDate Sentiment  \n",
            "0           26.51     9-Apr-19  androidApp     10/2/2019  Positive  \n",
            "1           22.49    24-Sep-17  androidApp     10/2/2019  Positive  \n",
            "2           21.50     4-Apr-18  androidApp     10/2/2019  Positive  \n",
            "3           20.51    22-Sep-17  androidApp     10/2/2019  Positive  \n",
            "4           16.01  17 Agu 2018  androidApp     10/2/2019  Positive  \n"
          ]
        }
      ]
    }
  ],
  "metadata": {
    "colab": {
      "provenance": [],
      "include_colab_link": true
    },
    "kernelspec": {
      "display_name": "Python 3",
      "name": "python3"
    }
  },
  "nbformat": 4,
  "nbformat_minor": 0
}